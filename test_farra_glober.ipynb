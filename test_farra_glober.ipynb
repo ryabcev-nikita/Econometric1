{
 "cells": [
  {
   "metadata": {
    "ExecuteTime": {
     "end_time": "2025-02-23T08:41:59.454331Z",
     "start_time": "2025-02-23T08:39:33.255758Z"
    }
   },
   "cell_type": "code",
   "source": [
    "import math\n",
    "import pandas as pd\n",
    "import numpy as np\n",
    "import statsmodels.api as sm\n",
    "import seaborn as sns\n",
    "import matplotlib.pyplot as plt\n",
    "import matplotlib\n",
    "from scipy.stats import chi2, f, t\n",
    "\n",
    "matplotlib.use('TkAgg')\n",
    "\n",
    "# Данные\n",
    "data = {\n",
    "    'Доллар': [28.12, 28.18, 28.13, 28.08, 28.06, 28.03, 28.02, 28.00, 27.99, 27.93, 27.95, 27.97],\n",
    "    'Евро': [36.13, 35.97, 35.97, 36.00, 36.13, 36.28, 36.34, 36.47, 36.54, 36.50, 36.52, 36.54],\n",
    "    'Иена': [26.97, 26.80, 26.77, 26.63, 26.53, 26.70, 26.67, 26.63, 26.60, 26.50, 26.55, 26.52],\n",
    "    'Фунт': [52.63, 52.32, 52.26, 52.28, 52.43, 52.58, 52.90, 52.99, 52.81, 52.89, 52.62, 52.67]\n",
    "}\n",
    "\n",
    "df = pd.DataFrame(data)\n",
    "# 1) Построение матрицы парных коэффициентов корреляций\n",
    "pair_correlation_matrix = df.corr()\n",
    "print(\"Матрица парных коэффициентов корреляций:\")\n",
    "print(pair_correlation_matrix)\n",
    "# Визуализация матрицы межфакторных корреляций\n",
    "plt.figure(figsize=(8, 6))\n",
    "sns.heatmap(pair_correlation_matrix, annot=True, cmap='coolwarm', fmt=\".2f\")\n",
    "plt.title('Матрица парных коэффициентов корреляций')\n",
    "plt.show()\n"
   ],
   "id": "8ee6c7532e6b7e9f",
   "outputs": [
    {
     "name": "stdout",
     "output_type": "stream",
     "text": [
      "Матрица парных коэффициентов корреляций:\n",
      "          Доллар      Евро      Иена      Фунт\n",
      "Доллар  1.000000 -0.925259  0.779088 -0.717067\n",
      "Евро   -0.925259  1.000000 -0.608195  0.829605\n",
      "Иена    0.779088 -0.608195  1.000000 -0.301761\n",
      "Фунт   -0.717067  0.829605 -0.301761  1.000000\n"
     ]
    }
   ],
   "execution_count": 2
  },
  {
   "metadata": {
    "ExecuteTime": {
     "end_time": "2025-02-23T08:45:09.711435Z",
     "start_time": "2025-02-23T08:42:06.510901Z"
    }
   },
   "cell_type": "code",
   "source": [
    "# Производим отбор факторов\n",
    "df = df[['Евро', 'Иена', 'Фунт']]\n",
    "\n",
    "#--------------------------------------------------------------------\n",
    "# 1) Построение матрицы межфакторных корреляций\n",
    "correlation_matrix = df.corr()\n",
    "print(\"Матрица межфакторных корреляций:\")\n",
    "print(correlation_matrix)\n",
    "\n",
    "# Визуализация матрицы межфакторных корреляций\n",
    "plt.figure(figsize=(8, 6))\n",
    "sns.heatmap(correlation_matrix, annot=True, cmap='coolwarm', fmt=\".2f\")\n",
    "plt.title('Матрица межфакторных корреляций')\n",
    "plt.show()\n",
    "#--------------------------------------------------------------------"
   ],
   "id": "ca7c77313e62070d",
   "outputs": [
    {
     "name": "stdout",
     "output_type": "stream",
     "text": [
      "Матрица межфакторных корреляций:\n",
      "          Евро      Иена      Фунт\n",
      "Евро  1.000000 -0.608195  0.829605\n",
      "Иена -0.608195  1.000000 -0.301761\n",
      "Фунт  0.829605 -0.301761  1.000000\n"
     ]
    }
   ],
   "execution_count": 3
  },
  {
   "metadata": {
    "ExecuteTime": {
     "end_time": "2025-02-23T08:59:47.781671Z",
     "start_time": "2025-02-23T08:59:47.764237Z"
    }
   },
   "cell_type": "code",
   "source": [
    "#--------------------------------------------------------------------\n",
    "# Определитель матрицы\n",
    "determinant = np.linalg.det(correlation_matrix)\n",
    "print(f\"\\nОпределитель матрицы: {determinant}\")\n",
    "\n",
    "# 2) Вычисление статистики Фаррара-Глоубера\n",
    "n = len(df)  # количество наблюдений\n",
    "k = df.shape[1]  # количество факторов\n",
    "\n",
    "farrar_glober_statistic = -1*(n-1-1/6*(2*k+5)) * math.log(determinant)\n",
    "print(f\"\\nСтатистика Фаррара-Глоубера: {farrar_glober_statistic}\")\n",
    "\n",
    "# Табличное значение для Хи-квадрат\n",
    "alpha = 0.05\n",
    "df_chi2 = (k - 1) * (k - 1)  # степени свободы\n",
    "chi2_table_value = chi2.ppf(1 - alpha, df_chi2)\n",
    "print(f\"\\nТабличное значение Хи-квадрат: {chi2_table_value}\")\n",
    "#--------------------------------------------------------------------"
   ],
   "id": "ee108dd84e0ea4dc",
   "outputs": [
    {
     "name": "stdout",
     "output_type": "stream",
     "text": [
      "\n",
      "Определитель матрицы: 0.15530835461481096\n",
      "3\n",
      "12\n",
      "\n",
      "Статистика Фаррара-Глоубера: 17.071475241848983\n",
      "\n",
      "Табличное значение Хи-квадрат: 9.487729036781154\n"
     ]
    }
   ],
   "execution_count": 8
  },
  {
   "metadata": {
    "ExecuteTime": {
     "end_time": "2025-02-23T08:53:03.766713Z",
     "start_time": "2025-02-23T08:50:24.968015Z"
    }
   },
   "cell_type": "code",
   "source": [
    "#--------------------------------------------------------------------\n",
    "# 3) Вычисление обратной матрицы\n",
    "inverse_matrix = np.linalg.inv(correlation_matrix)\n",
    "print(\"\\nОбратная матрица:\")\n",
    "print(inverse_matrix)\n",
    "\n",
    "# Визуализация обратной матрицы\n",
    "plt.figure(figsize=(8, 6))\n",
    "sns.heatmap(inverse_matrix, annot=True, cmap='coolwarm', fmt=\".2f\")\n",
    "plt.title('Обратная матрица')\n",
    "plt.show()\n",
    "\n",
    "# Степени свободы\n",
    "df1 = 2\n",
    "df2 = 9\n",
    "\n",
    "# Находим критическое значение F\n",
    "f_critical = f.ppf(1 - alpha, df1, df2)\n",
    "\n",
    "print(f\"Критическое значение F при уровне значимости {alpha}: {f_critical}\")\n",
    "# Вычисление F-критериев\n",
    "f_statistics = np.diag(inverse_matrix)\n",
    "print(\"\\nF-критерии:\")\n",
    "print(f_statistics)\n",
    "\n",
    "# Визуализация F-критериев\n",
    "plt.figure(figsize=(8, 4))\n",
    "sns.barplot(x=df.columns, y=f_statistics)\n",
    "plt.title('F-критерии')\n",
    "plt.ylabel('Значение F-критерия')\n",
    "plt.axhline(y=f_critical, color='r', linestyle='--')  # Уровень f_critical\n",
    "plt.show()\n",
    "#--------------------------------------------------------------------"
   ],
   "id": "c916bc172022fa1",
   "outputs": [
    {
     "name": "stdout",
     "output_type": "stream",
     "text": [
      "\n",
      "Обратная матрица:\n",
      "[[ 5.85248792  2.30414313 -4.15995365]\n",
      " [ 2.30414313  2.00733079 -1.30579483]\n",
      " [-4.15995365 -1.30579483  4.05708109]]\n",
      "Критическое значение F при уровне значимости 0.05: 4.256494729093748\n",
      "\n",
      "F-критерии:\n",
      "[5.85248792 2.00733079 4.05708109]\n"
     ]
    }
   ],
   "execution_count": 5
  },
  {
   "metadata": {
    "ExecuteTime": {
     "end_time": "2025-02-23T09:28:29.739348Z",
     "start_time": "2025-02-23T09:27:42.343517Z"
    }
   },
   "cell_type": "code",
   "source": [
    "#--------------------------------------------------------------------\n",
    "# 4) Вычисление частных коэффициентов корреляции\n",
    "\n",
    "# Создание матрицы частных корреляций\n",
    "partial_corr_matrix = np.zeros((k, k))\n",
    "\n",
    "# Вычисление частных коэффициентов корреляции\n",
    "for i in range(k):\n",
    "    for j in range(k):\n",
    "        if i != j:\n",
    "            partial_corr_matrix[i, j] = -inverse_matrix[i, j] / np.sqrt(inverse_matrix[i, i] * inverse_matrix[j, j])\n",
    "        else:\n",
    "            partial_corr_matrix[i, j] = 1  # Корреляция с самой собой равна 1\n",
    "\n",
    "# Преобразование в DataFrame для удобства\n",
    "partial_corr_df = pd.DataFrame(partial_corr_matrix, columns=['Евро', 'Иена', 'Фунт'], index=['Евро', 'Иена', 'Фунт'])\n",
    "\n",
    "# Вывод матрицы частных коэффициентов корреляции\n",
    "print(\"Матрица частных коэффициентов корреляции:\")\n",
    "print(partial_corr_df)\n",
    "\n",
    "# Заменяем NaN на 0\n",
    "partial_corr_df.fillna(0, inplace=True)\n",
    "\n",
    "# Визуализация матрицы частных корреляций\n",
    "plt.figure(figsize=(8, 6))\n",
    "sns.heatmap(partial_corr_df, annot=True, cmap='coolwarm', fmt=\".2f\")\n",
    "plt.title('Матрица частных коэффициентов корреляций')\n",
    "plt.show()\n",
    "\n",
    "ddf = n - k - 1  # Степени свободы\n",
    "\n",
    "# Функция для расчета t-критерия\n",
    "def calculate_t_statistic(r, n, k):\n",
    "    return (r * np.sqrt(n - k - 1)) / np.sqrt(1 - r**2)\n",
    "\n",
    "# Расчет t-критериев\n",
    "t_statistics = pd.DataFrame(index=partial_corr_df.index, columns=partial_corr_df.columns)\n",
    "\n",
    "for i in range(len(partial_corr_df)):\n",
    "    for j in range(len(partial_corr_df)):\n",
    "        if i != j:\n",
    "            r = partial_corr_df.iloc[i, j]  # Используем iloc для доступа по индексам\n",
    "            t_statistics.iloc[i, j] = calculate_t_statistic(r, n, k)\n",
    "\n",
    "print(\"t-критерии для коэффициентов частной корреляции:\")\n",
    "print(t_statistics)\n",
    "\n",
    "# Критическое значение t\n",
    "alpha = 0.05\n",
    "t_critical = t.ppf(1 - alpha/2, ddf)\n",
    "\n",
    "print(f\"\\nКритическое значение t при уровне значимости {alpha}: {t_critical}\")\n",
    "#--------------------------------------------------------------------"
   ],
   "id": "545e301f3a635276",
   "outputs": [
    {
     "name": "stdout",
     "output_type": "stream",
     "text": [
      "Матрица частных коэффициентов корреляции:\n",
      "          Евро      Иена      Фунт\n",
      "Евро  1.000000 -0.672248  0.853712\n",
      "Иена -0.672248  1.000000  0.457571\n",
      "Фунт  0.853712  0.457571  1.000000\n",
      "t-критерии для коэффициентов частной корреляции:\n",
      "          Евро      Иена      Фунт\n",
      "Евро       NaN -2.568336  4.636934\n",
      "Иена -2.568336       NaN  1.455517\n",
      "Фунт  4.636934  1.455517       NaN\n",
      "\n",
      "Критическое значение t при уровне значимости 0.05: 2.306004135204166\n"
     ]
    }
   ],
   "execution_count": 20
  }
 ],
 "metadata": {
  "kernelspec": {
   "display_name": "Python 3",
   "language": "python",
   "name": "python3"
  },
  "language_info": {
   "codemirror_mode": {
    "name": "ipython",
    "version": 2
   },
   "file_extension": ".py",
   "mimetype": "text/x-python",
   "name": "python",
   "nbconvert_exporter": "python",
   "pygments_lexer": "ipython2",
   "version": "2.7.6"
  }
 },
 "nbformat": 4,
 "nbformat_minor": 5
}
